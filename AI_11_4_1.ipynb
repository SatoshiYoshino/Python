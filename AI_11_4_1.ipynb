{
 "cells": [
  {
   "cell_type": "code",
   "execution_count": 1,
   "metadata": {
    "collapsed": true
   },
   "outputs": [],
   "source": [
    "import tensorflow as tf"
   ]
  },
  {
   "cell_type": "code",
   "execution_count": 2,
   "metadata": {
    "collapsed": true
   },
   "outputs": [],
   "source": [
    "old_v = tf.logging.get_verbosity()\n",
    "tf.logging.set_verbosity(tf.logging.ERROR)\n",
    "\n",
    "from tensorflow.examples.tutorials.mnist import input_data\n"
   ]
  },
  {
   "cell_type": "code",
   "execution_count": 3,
   "metadata": {},
   "outputs": [
    {
     "name": "stdout",
     "output_type": "stream",
     "text": [
      "Extracting MNIST_data/train-images-idx3-ubyte.gz\n",
      "Extracting MNIST_data/train-labels-idx1-ubyte.gz\n",
      "Extracting MNIST_data/t10k-images-idx3-ubyte.gz\n",
      "Extracting MNIST_data/t10k-labels-idx1-ubyte.gz\n"
     ]
    }
   ],
   "source": [
    "#MNISTデータ読み込み\n",
    "mnist = input_data.read_data_sets(\"MNIST_data/\", one_hot=True)\n",
    "tf.logging.set_verbosity(old_v)"
   ]
  },
  {
   "cell_type": "code",
   "execution_count": 4,
   "metadata": {
    "collapsed": true
   },
   "outputs": [],
   "source": [
    "#乱数の種を固定\n",
    "tf.set_random_seed(12345678)"
   ]
  },
  {
   "cell_type": "code",
   "execution_count": 5,
   "metadata": {
    "collapsed": true
   },
   "outputs": [],
   "source": [
    "#入力データの定義\n",
    "x = tf.placeholder(tf.float32,[None,784])"
   ]
  },
  {
   "cell_type": "code",
   "execution_count": 6,
   "metadata": {
    "collapsed": true
   },
   "outputs": [],
   "source": [
    "#隠れ層のニューロン数\n",
    "num_units1=1024"
   ]
  },
  {
   "cell_type": "markdown",
   "metadata": {},
   "source": [
    "隠れ層を定義\n",
    "隠れ層では重みを初期値として０ではなく切断正規分布とお呼ばれる分布に基づいてランダムに決定する。\n",
    "入力に対して重み、バイアスを適用した値をReLU関数に通している\n",
    "ReLU関数は隠れ層で利用する活性化関数として良好な結果が得られるといわれている"
   ]
  },
  {
   "cell_type": "code",
   "execution_count": 7,
   "metadata": {
    "collapsed": true
   },
   "outputs": [],
   "source": [
    "#隠れ層の重みとバイアス、計算処理を定義\n",
    "W1 = tf.Variable(tf.truncated_normal([784,num_units1],dtype=tf.float32))\n",
    "b1 = tf.Variable(tf.zeros([1,num_units1],tf.float32))\n",
    "hidden1 = tf.nn.relu(tf.matmul(x,W1)+b1)"
   ]
  },
  {
   "cell_type": "code",
   "execution_count": 12,
   "metadata": {
    "collapsed": true
   },
   "outputs": [],
   "source": [
    "#出力層の重みとバイアスを定義\n",
    "W2 = tf.Variable(tf.zeros([num_units1,10],tf.float32))\n",
    "b2 = tf.Variable(tf.zeros([1,10],tf.float32))\n",
    "y=tf.nn.softmax(tf.matmul(hidden1,W2)+b2) "
   ]
  },
  {
   "cell_type": "markdown",
   "metadata": {},
   "source": [
    "ピクセルデータが直接入るのではなく隠れ層の値が入力された出力（各数字の確率）が計算される\n",
    "実行すると９６．４２％と表示される\n"
   ]
  },
  {
   "cell_type": "code",
   "execution_count": 14,
   "metadata": {
    "scrolled": true
   },
   "outputs": [],
   "source": [
    "#正解データ\n",
    "t= tf.placeholder(tf.float32,[None,10])"
   ]
  },
  {
   "cell_type": "code",
   "execution_count": 15,
   "metadata": {
    "collapsed": true
   },
   "outputs": [],
   "source": [
    "#交差エントロピー誤差を定義\n",
    "cross_entropy=tf.reduce_sum(-tf.reduce_sum(t*tf.log(y),1))"
   ]
  },
  {
   "cell_type": "code",
   "execution_count": 40,
   "metadata": {},
   "outputs": [],
   "source": [
    "#最適化処理を定義\n",
    "train_step = tf.train.AdamOptimizer().minimize(cross_entropy)"
   ]
  },
  {
   "cell_type": "code",
   "execution_count": 41,
   "metadata": {
    "collapsed": true
   },
   "outputs": [],
   "source": [
    "#正答率の定義\n",
    "correct_prediction = tf.equal(tf.argmax(y,1),tf.argmax(t,1))\n",
    "accuracy = tf.reduce_mean(tf.cast(correct_prediction,tf.float32))"
   ]
  },
  {
   "cell_type": "code",
   "execution_count": 42,
   "metadata": {},
   "outputs": [],
   "source": [
    "#セッションを作成し変数を初期化\n",
    "sess = tf.Session()\n",
    "sess.run(tf.global_variables_initializer()) "
   ]
  },
  {
   "cell_type": "code",
   "execution_count": 43,
   "metadata": {},
   "outputs": [],
   "source": [
    "#ニューラルネットワークを学習させる\n",
    "for i in range(1000):\n",
    " #訓練データの一部を取り出して実行\n",
    "  batch_xs, batch_ts = mnist.train.next_batch(100)\n",
    "  sess.run(train_step,{x: batch_xs,t: batch_ts})"
   ]
  },
  {
   "cell_type": "code",
   "execution_count": 44,
   "metadata": {},
   "outputs": [
    {
     "name": "stdout",
     "output_type": "stream",
     "text": [
      "0.9636\n"
     ]
    }
   ],
   "source": [
    "#評価データを用いて正答率を計算\n",
    "print(sess.run(accuracy,{x:mnist.test.images,t:mnist.test.labels}))"
   ]
  }
 ],
 "metadata": {
  "kernelspec": {
   "display_name": "Python 3",
   "language": "python",
   "name": "python3"
  },
  "language_info": {
   "codemirror_mode": {
    "name": "ipython",
    "version": 3
   },
   "file_extension": ".py",
   "mimetype": "text/x-python",
   "name": "python",
   "nbconvert_exporter": "python",
   "pygments_lexer": "ipython3",
   "version": "3.6.10"
  }
 },
 "nbformat": 4,
 "nbformat_minor": 4
}
