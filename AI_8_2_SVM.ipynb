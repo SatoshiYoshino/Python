{
 "cells": [
  {
   "cell_type": "markdown",
   "metadata": {},
   "source": [
    "線形SVMの利用"
   ]
  },
  {
   "cell_type": "code",
   "execution_count": 24,
   "metadata": {
    "collapsed": true
   },
   "outputs": [],
   "source": [
    "import pandas as pd\n",
    "import matplotlib.pyplot as plt\n",
    "%matplotlib inline\n",
    "\n",
    "df = pd.read_csv('sample08_2_1.csv')"
   ]
  },
  {
   "cell_type": "code",
   "execution_count": 5,
   "metadata": {
    "collapsed": true
   },
   "outputs": [],
   "source": [
    "# データをtype別に分割する\n",
    "t1 = df[df.type == 1]\n",
    "t2 = df[df.type == 2]"
   ]
  },
  {
   "cell_type": "code",
   "execution_count": 6,
   "metadata": {
    "collapsed": false
   },
   "outputs": [
    {
     "data": {
      "image/png": "[encoded data removed]",
      "text/plain": [
       "<matplotlib.figure.Figure at 0x125712f28>"
      ]
     },
     "metadata": {},
     "output_type": "display_data"
    }
   ],
   "source": [
    "#分割した各点を描画\n",
    "plt.plot(t1['x'],t1['y'],'ro')\n",
    "plt.plot(t2['x'],t2['y'],'b*')\n",
    "plt.grid()"
   ]
  },
  {
   "cell_type": "code",
   "execution_count": 9,
   "metadata": {
    "collapsed": true
   },
   "outputs": [],
   "source": [
    "# 基準値（ここでいうと１、２）でグループに分けて赤丸か青い星で表示することができる"
   ]
  },
  {
   "cell_type": "code",
   "execution_count": 11,
   "metadata": {
    "collapsed": false
   },
   "outputs": [],
   "source": [
    "from sklearn import svm"
   ]
  },
  {
   "cell_type": "code",
   "execution_count": 20,
   "metadata": {
    "collapsed": false
   },
   "outputs": [
    {
     "data": {
      "text/plain": [
       "LinearSVC(C=1.0, class_weight=None, dual=True, fit_intercept=True,\n",
       "     intercept_scaling=1, loss='squared_hinge', max_iter=1000,\n",
       "     multi_class='ovr', penalty='l2', random_state=None, tol=0.0001,\n",
       "     verbose=0)"
      ]
     },
     "execution_count": 20,
     "metadata": {},
     "output_type": "execute_result"
    }
   ],
   "source": [
    "clf = svm.LinearSVC()\n",
    "clf.fit(df[['x','y']],df['type'])\n",
    "\n",
    "# x,y　座標の組みに対するtype学習させます。　　第１引数にx,yの組、第２引数にtypeの配列を指定します\n",
    "# sampleデータは、「x,t,type」のデータが入っている\n",
    "# clfは、分類の略"
   ]
  },
  {
   "cell_type": "code",
   "execution_count": 23,
   "metadata": {
    "collapsed": false
   },
   "outputs": [
    {
     "data": {
      "text/plain": [
       "array([2, 1, 2])"
      ]
     },
     "execution_count": 23,
     "metadata": {},
     "output_type": "execute_result"
    }
   ],
   "source": [
    "clf.predict([[10,5],[10,10],[15,5]])\n",
    "\n",
    "# 学習が行えたらpredictメソッドにより分類結果を表示することができます\n",
    "# このfitで学習、predictで未知データに適応はscikit-learnの多くのアルゴリズムに共通している\n",
    "\n",
    "# 下記の結果は、１つ目が２、２つ目が１、３つ目が２に分類された\n",
    "#  xとyの値に対して学習した内容を元に（予測され）分類された"
   ]
  },
  {
   "cell_type": "markdown",
   "metadata": {},
   "source": [
    "### 第２項線形SVMの可視化"
   ]
  },
  {
   "cell_type": "code",
   "execution_count": 30,
   "metadata": {
    "collapsed": true
   },
   "outputs": [],
   "source": [
    "# SVMに学習させて得られた境界面を実際に描画してみる。それを線形分離という"
   ]
  },
  {
   "cell_type": "code",
   "execution_count": 26,
   "metadata": {
    "collapsed": false
   },
   "outputs": [
    {
     "data": {
      "text/plain": [
       "array([[ 0.12066782, -0.17809801]])"
      ]
     },
     "execution_count": 26,
     "metadata": {},
     "output_type": "execute_result"
    }
   ],
   "source": [
    "clf.coef_\n",
    "# 係数を確認してみる\n",
    "# ２つあるので２次元配列"
   ]
  },
  {
   "cell_type": "code",
   "execution_count": 31,
   "metadata": {
    "collapsed": false
   },
   "outputs": [
    {
     "data": {
      "text/plain": [
       "array([-0.00487582])"
      ]
     },
     "execution_count": 31,
     "metadata": {},
     "output_type": "execute_result"
    }
   ],
   "source": [
    "clf.intercept_\n",
    "# 切片を確認してみる\n",
    "# １つなので１次元配列"
   ]
  },
  {
   "cell_type": "code",
   "execution_count": 32,
   "metadata": {
    "collapsed": true
   },
   "outputs": [],
   "source": [
    "# 線形回帰分析とは異なり、coef_は２次元配列、intercept_は１次元配列になっている\n",
    "# coef_が２次元配列になっているので、y=ax+bではなく、y= ax+by+c=0 とする。（一般的な直線の方程式で考える）\n",
    "# a = 0.12066782、 b =-0.17809801、c=-0.00487582　とすれば良い\n",
    "#これをグラフにかけるように計算すると\n",
    "#（ax+by+c=0 ）は、　　y = (-ax-c)　/b　となる"
   ]
  },
  {
   "cell_type": "code",
   "execution_count": 33,
   "metadata": {
    "collapsed": true
   },
   "outputs": [],
   "source": [
    "import numpy as np"
   ]
  },
  {
   "cell_type": "code",
   "execution_count": 42,
   "metadata": {
    "collapsed": false
   },
   "outputs": [
    {
     "data": {
      "image/png": "[encoded data removed]",
      "text/plain": [
       "<matplotlib.figure.Figure at 0x12d4d62e8>"
      ]
     },
     "metadata": {},
     "output_type": "display_data"
    }
   ],
   "source": [
    "#aとbの２つの係数を取り出す\n",
    "\n",
    "a = clf.coef_[0][0]\n",
    "b = clf.coef_[0][1]\n",
    "\n",
    "#　切片cを取り出す\n",
    "c = clf.intercept_[0]\n",
    "\n",
    "# 描画するX座標を生成（表示するグラフの範囲を自分で決めて指定）\n",
    "x = np.arange(5,35)\n",
    "\n",
    "# 係数に対する直線を描画\n",
    "# xは先ほど決めた値を代入。計算式はy = (-ax-c)　/b　となる\n",
    "plt.plot(x,(-a*x-c)/b)\n",
    "\n",
    "# 赤丸や青い星がお描画させなかったので、以下の内容を入力したら描画された\n",
    "plt.plot(t1['x'],t1['y'],'ro')\n",
    "plt.plot(t2['x'],t2['y'],'b*')\n",
    "plt.grid()\n"
   ]
  },
  {
   "cell_type": "markdown",
   "metadata": {},
   "source": [
    "### 第３項 非線形SVMの利用"
   ]
  },
  {
   "cell_type": "code",
   "execution_count": 73,
   "metadata": {
    "collapsed": true
   },
   "outputs": [],
   "source": [
    "import pandas as pd\n",
    "import matplotlib.pyplot as plt\n",
    "%matplotlib inline"
   ]
  },
  {
   "cell_type": "code",
   "execution_count": 74,
   "metadata": {
    "collapsed": false
   },
   "outputs": [],
   "source": [
    "df = pd.read_csv('sample08_2_3.csv')"
   ]
  },
  {
   "cell_type": "code",
   "execution_count": 75,
   "metadata": {
    "collapsed": false
   },
   "outputs": [],
   "source": [
    "# データをtype別に分割するぞ\n",
    "\n",
    "t1 = df[df.type == 1]\n",
    "t2 = df[df.type == 2]"
   ]
  },
  {
   "cell_type": "code",
   "execution_count": 76,
   "metadata": {
    "collapsed": false
   },
   "outputs": [
    {
     "data": {
      "text/plain": [
       "(0, 10)"
      ]
     },
     "execution_count": 76,
     "metadata": {},
     "output_type": "execute_result"
    },
    {
     "data": {
      "image/png": "[encoded data removed]",
      "text/plain": [
       "<matplotlib.figure.Figure at 0x12893fb70>"
      ]
     },
     "metadata": {},
     "output_type": "display_data"
    }
   ],
   "source": [
    "# 分割した各点を描画してみる\n",
    "\n",
    "plt.plot(t1['x'],t1['y'],'ro')\n",
    "plt.plot(t2['x'],t2['y'],'b*')\n",
    "\n",
    "plt.grid()\n",
    "plt.xlim(0,10)\n",
    "plt.ylim(0,10)"
   ]
  }
 ],
 "metadata": {
  "anaconda-cloud": {},
  "kernelspec": {
   "display_name": "Python [Root]",
   "language": "python",
   "name": "Python [Root]"
  },
  "language_info": {
   "codemirror_mode": {
    "name": "ipython",
    "version": 3
   },
   "file_extension": ".py",
   "mimetype": "text/x-python",
   "name": "python",
   "nbconvert_exporter": "python",
   "pygments_lexer": "ipython3",
   "version": "3.5.2"
  }
 },
 "nbformat": 4,
 "nbformat_minor": 0
}
