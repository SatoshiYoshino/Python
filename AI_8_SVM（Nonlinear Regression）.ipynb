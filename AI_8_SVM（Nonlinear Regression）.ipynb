{
 "cells": [
  {
   "cell_type": "markdown",
   "metadata": {
    "collapsed": true
   },
   "source": [
    "非線形回帰分析"
   ]
  },
  {
   "cell_type": "code",
   "execution_count": null,
   "metadata": {
    "collapsed": true
   },
   "outputs": [],
   "source": [
    "import pandas as pd\n",
    "import matplotlib.pyplot as plt\n",
    "%matplotlib inline"
   ]
  },
  {
   "cell_type": "code",
   "execution_count": 46,
   "metadata": {
    "collapsed": true
   },
   "outputs": [],
   "source": [
    "df = pd.read_csv('sample08_2_3.csv')"
   ]
  },
  {
   "cell_type": "code",
   "execution_count": 47,
   "metadata": {
    "collapsed": true
   },
   "outputs": [],
   "source": [
    "# データをtype別に分割する\n",
    "\n",
    "t1 = df[df.type == 1]\n",
    "t2 = df[df.type == 2]"
   ]
  },
  {
   "cell_type": "code",
   "execution_count": 48,
   "metadata": {
    "collapsed": false
   },
   "outputs": [
    {
     "data": {
      "text/plain": [
       "(0, 10)"
      ]
     },
     "execution_count": 48,
     "metadata": {},
     "output_type": "execute_result"
    },
    {
     "data": {
      "image/png": "[encoded data removed]",
      "text/plain": [
       "<matplotlib.figure.Figure at 0x12770dc88>"
      ]
     },
     "metadata": {},
     "output_type": "display_data"
    }
   ],
   "source": [
    "# 分割した各点を描画してみる\n",
    "\n",
    "plt.plot(t1['x'],t1['y'],'ro')\n",
    "plt.plot(t2['x'],t2['y'],'b*')\n",
    "\n",
    "plt.grid()\n",
    "plt.xlim(0,10)\n",
    "plt.ylim(0,10)"
   ]
  },
  {
   "cell_type": "code",
   "execution_count": 49,
   "metadata": {
    "collapsed": false
   },
   "outputs": [
    {
     "data": {
      "text/plain": [
       "LinearSVC(C=1.0, class_weight=None, dual=True, fit_intercept=True,\n",
       "     intercept_scaling=1, loss='squared_hinge', max_iter=1000,\n",
       "     multi_class='ovr', penalty='l2', random_state=None, tol=0.0001,\n",
       "     verbose=0)"
      ]
     },
     "execution_count": 49,
     "metadata": {},
     "output_type": "execute_result"
    }
   ],
   "source": [
    "# 試しに線形SVMを使ってみる\n",
    "from sklearn import svm\n",
    "from sklearn import linear_model\n",
    "import numpy as np\n",
    "\n",
    "clf=svm.LinearSVC()\n",
    "clf.fit(df[['x','y']],df['type'])\n",
    "# clt 分類という意味"
   ]
  },
  {
   "cell_type": "code",
   "execution_count": 50,
   "metadata": {
    "collapsed": true
   },
   "outputs": [],
   "source": [
    "# 線形SVMの結果をグラフに描画\n",
    "# 各係数を書き出す\n",
    "# 数値は、配列を指している\n",
    "# coefは、２次元配列\n",
    "# interceptは、１次元配列となってる"
   ]
  },
  {
   "cell_type": "code",
   "execution_count": 51,
   "metadata": {
    "collapsed": false
   },
   "outputs": [],
   "source": [
    "a = clf.coef_[0][0]\n",
    "b = clf.coef_[0][1]\n",
    "c = clf.intercept_[0]"
   ]
  },
  {
   "cell_type": "code",
   "execution_count": 52,
   "metadata": {
    "collapsed": false
   },
   "outputs": [
    {
     "data": {
      "image/png": "[encoded data removed]",
      "text/plain": [
       "<matplotlib.figure.Figure at 0x12aad9cf8>"
      ]
     },
     "metadata": {},
     "output_type": "display_data"
    }
   ],
   "source": [
    "x = np.arange(0,10,0.1)\n",
    "plt.plot(x,(-a*x-c)/b)\n",
    "\n",
    "# 赤丸や青い星がお描画させなかったので、以下の内容を一緒に入力したら描画された\n",
    "plt.plot(t1['x'],t1['y'],'ro')\n",
    "plt.plot(t2['x'],t2['y'],'b*')\n",
    "plt.grid()\n",
    "\n",
    "# 正しく分類されれいない　丸と星の分類が違う\n",
    "# この場合は、直線である為、正しく分類できない\n",
    "# これを実現できるのはカーネルトリックという手法\n",
    "# カーネルには、いくつか種類がる　多項式カーネル、RBFカーネル、シグモイドカーネル\n",
    "\n",
    "# 計算処理は、scikit-learn内部で行われる為、どのカーネルを使用するか必要に応じてパラメーターを設定すれば良い\n",
    "#　ここでは、多項式カーネルを設定してみる"
   ]
  },
  {
   "cell_type": "code",
   "execution_count": 53,
   "metadata": {
    "collapsed": false
   },
   "outputs": [],
   "source": [
    "clf2 = svm.SVC(kernel='poly')"
   ]
  },
  {
   "cell_type": "code",
   "execution_count": 60,
   "metadata": {
    "collapsed": false
   },
   "outputs": [
    {
     "data": {
      "text/plain": [
       "SVC(C=1.0, cache_size=200, class_weight=None, coef0=0.0,\n",
       "  decision_function_shape=None, degree=3, gamma='auto', kernel='poly',\n",
       "  max_iter=-1, probability=False, random_state=None, shrinking=True,\n",
       "  tol=0.001, verbose=False)"
      ]
     },
     "execution_count": 60,
     "metadata": {},
     "output_type": "execute_result"
    }
   ],
   "source": [
    "clf2.fit(df[['x','y']],df['type'])"
   ]
  },
  {
   "cell_type": "code",
   "execution_count": 62,
   "metadata": {
    "collapsed": false
   },
   "outputs": [
    {
     "data": {
      "text/plain": [
       "array([2, 1])"
      ]
     },
     "execution_count": 62,
     "metadata": {},
     "output_type": "execute_result"
    }
   ],
   "source": [
    "clf2.predict([[4,4],[8,2]])\n",
    "\n",
    "# 青星（２）赤丸（１）と表示される"
   ]
  },
  {
   "cell_type": "markdown",
   "metadata": {},
   "source": [
    "### 第４項　非線形SVMの可視化"
   ]
  },
  {
   "cell_type": "code",
   "execution_count": 72,
   "metadata": {
    "collapsed": false
   },
   "outputs": [],
   "source": [
    "y=x\n",
    "X,Y=np.meshgrid(x,y)\n",
    "\n",
    "#meshgridで格子点を作る"
   ]
  },
  {
   "cell_type": "code",
   "execution_count": 73,
   "metadata": {
    "collapsed": false
   },
   "outputs": [
    {
     "data": {
      "text/plain": [
       "(array([[ 0. ,  0.1,  0.2, ...,  9.7,  9.8,  9.9],\n",
       "        [ 0. ,  0.1,  0.2, ...,  9.7,  9.8,  9.9],\n",
       "        [ 0. ,  0.1,  0.2, ...,  9.7,  9.8,  9.9],\n",
       "        ..., \n",
       "        [ 0. ,  0.1,  0.2, ...,  9.7,  9.8,  9.9],\n",
       "        [ 0. ,  0.1,  0.2, ...,  9.7,  9.8,  9.9],\n",
       "        [ 0. ,  0.1,  0.2, ...,  9.7,  9.8,  9.9]]),\n",
       " array([[ 0. ,  0. ,  0. , ...,  0. ,  0. ,  0. ],\n",
       "        [ 0.1,  0.1,  0.1, ...,  0.1,  0.1,  0.1],\n",
       "        [ 0.2,  0.2,  0.2, ...,  0.2,  0.2,  0.2],\n",
       "        ..., \n",
       "        [ 9.7,  9.7,  9.7, ...,  9.7,  9.7,  9.7],\n",
       "        [ 9.8,  9.8,  9.8, ...,  9.8,  9.8,  9.8],\n",
       "        [ 9.9,  9.9,  9.9, ...,  9.9,  9.9,  9.9]]))"
      ]
     },
     "execution_count": 73,
     "metadata": {},
     "output_type": "execute_result"
    }
   ],
   "source": [
    "X,Y\n",
    "# X,Yを表示して確認してみる"
   ]
  },
  {
   "cell_type": "code",
   "execution_count": 82,
   "metadata": {
    "collapsed": false
   },
   "outputs": [],
   "source": [
    "pair = np.c_[X.ravel(),Y.ravel()]\n",
    "#np.c_は、２軸を１つの記号にまとめて等高線を作る時に使う\n",
    "\n",
    "# X,Yは、X座標とY座標に分かれている為これを先ほどのように(0,0)のようなx,yの組（ペア）に変換する必要がある\n",
    "# これには、「　ravel　」というメソッドと「　np.c_　」というオブジェクトを使用する。\n",
    "# また、no.c_　のイメージは、zip関数のような事をしていて、x,yの組の配列が作られているというように理解した\n",
    "\n",
    "# ravelについて 一次元に変換できる　変換前[1,2][3,4]だとすると、変換後[1,2,3,4]に変換できる"
   ]
  },
  {
   "cell_type": "code",
   "execution_count": 75,
   "metadata": {
    "collapsed": true
   },
   "outputs": [],
   "source": [
    "pair = np.c_[X.ravel(),Y.ravel()]\n",
    "# 組に変換できたら先ほど学習させたSVMを利用して格子点での値を計算する"
   ]
  },
  {
   "cell_type": "code",
   "execution_count": 77,
   "metadata": {
    "collapsed": false
   },
   "outputs": [],
   "source": [
    "Z = clf2.predict(pair)\n",
    "# Zに　clf（分類）.predict（予測）.pair（値）を代入\n",
    "# これで全てのデータが揃った"
   ]
  },
  {
   "cell_type": "code",
   "execution_count": 83,
   "metadata": {
    "collapsed": false
   },
   "outputs": [
    {
     "data": {
      "image/png": "[encoded data removed]",
      "text/plain": [
       "<matplotlib.figure.Figure at 0x12b4b70f0>"
      ]
     },
     "metadata": {},
     "output_type": "display_data"
    }
   ],
   "source": [
    "# 最後にmatplotlibのcoutour関数を使用すれば高等線が引ける\n",
    "# ZをXと同じ形状（100×100配列）に変換する必要がある= Z.reshape(X.shape)\n",
    "\n",
    "# 非線形SVMのplot\n",
    "plt.contour(X,Y,Z.reshape(X.shape))\n",
    "\n",
    "# 直線のplot( 線形SVMの結果)\n",
    "x = np.arange(0,10,0.1)\n",
    "plt.plot(x,(-a*x-c)/b)\n",
    "\n",
    "\n",
    "# 赤丸や青い星が描画されなかったので、以下の内容を一緒に入力\n",
    "plt.plot(t1['x'],t1['y'],'ro')\n",
    "plt.plot(t2['x'],t2['y'],'b*')\n",
    "plt.grid()"
   ]
  },
  {
   "cell_type": "raw",
   "metadata": {},
   "source": [
    "# RBFカーネルを利用する場合\n",
    "\n",
    "plt.plot(t1['x'],t1['y'],'ro')\n",
    "plt.plot(t2['x'],t2['y'],'b*')\n",
    "plt.grid()\n",
    "plt.xlim(0,10)\n",
    "plt.ylim(0,10)"
   ]
  },
  {
   "cell_type": "code",
   "execution_count": 90,
   "metadata": {
    "collapsed": false
   },
   "outputs": [
    {
     "data": {
      "text/plain": [
       "SVC(C=1.0, cache_size=200, class_weight=None, coef0=0.0,\n",
       "  decision_function_shape=None, degree=3, gamma='auto', kernel='rbf',\n",
       "  max_iter=-1, probability=False, random_state=None, shrinking=True,\n",
       "  tol=0.001, verbose=False)"
      ]
     },
     "execution_count": 90,
     "metadata": {},
     "output_type": "execute_result"
    }
   ],
   "source": [
    "clf3 = svm.SVC(kernel='rbf')\n",
    "clf3.fit(df[['x','y']],df['type'])"
   ]
  },
  {
   "cell_type": "code",
   "execution_count": 94,
   "metadata": {
    "collapsed": false
   },
   "outputs": [
    {
     "data": {
      "image/png": "[encoded data removed]",
      "text/plain": [
       "<matplotlib.figure.Figure at 0x12af56b38>"
      ]
     },
     "metadata": {},
     "output_type": "display_data"
    }
   ],
   "source": [
    "# 高等線の描画\n",
    "Z = clf2.predict(pair)\n",
    "plt.contour(X,Y,Z.reshape(X.shape))\n",
    "\n",
    "# 赤丸や青い星を描画\n",
    "plt.plot(t1['x'],t1['y'],'ro')\n",
    "plt.plot(t2['x'],t2['y'],'b*')\n",
    "plt.grid()"
   ]
  }
 ],
 "metadata": {
  "anaconda-cloud": {},
  "kernelspec": {
   "display_name": "Python [Root]",
   "language": "python",
   "name": "Python [Root]"
  },
  "language_info": {
   "codemirror_mode": {
    "name": "ipython",
    "version": 3
   },
   "file_extension": ".py",
   "mimetype": "text/x-python",
   "name": "python",
   "nbconvert_exporter": "python",
   "pygments_lexer": "ipython3",
   "version": "3.5.2"
  }
 },
 "nbformat": 4,
 "nbformat_minor": 0
}
