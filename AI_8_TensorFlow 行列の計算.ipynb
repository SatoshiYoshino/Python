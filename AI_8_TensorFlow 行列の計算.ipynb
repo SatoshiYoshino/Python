{
 "cells": [
  {
   "cell_type": "code",
   "execution_count": 2,
   "metadata": {},
   "outputs": [],
   "source": [
    "import tensorflow as tf"
   ]
  },
  {
   "cell_type": "code",
   "execution_count": 3,
   "metadata": {},
   "outputs": [],
   "source": [
    "a0 = tf.constant(3.0,tf.float32)\n",
    "a2 = tf.constant([[1.0,2.0],[3.0,4.0]],tf.float32)"
   ]
  },
  {
   "cell_type": "code",
   "execution_count": 4,
   "metadata": {},
   "outputs": [
    {
     "data": {
      "text/plain": [
       "<tf.Tensor 'Const:0' shape=() dtype=float32>"
      ]
     },
     "execution_count": 4,
     "metadata": {},
     "output_type": "execute_result"
    }
   ],
   "source": [
    "a0"
   ]
  },
  {
   "cell_type": "code",
   "execution_count": 5,
   "metadata": {},
   "outputs": [
    {
     "data": {
      "text/plain": [
       "<tf.Tensor 'Const_1:0' shape=(2, 2) dtype=float32>"
      ]
     },
     "execution_count": 5,
     "metadata": {},
     "output_type": "execute_result"
    }
   ],
   "source": [
    "a2"
   ]
  },
  {
   "cell_type": "markdown",
   "metadata": {},
   "source": [
    "どちらもTensorFlowというクラスで表されている\n",
    "違いはshapeの値になり、　ａ０は空タブル（０次元→スカラー）、a２は２次元配列で２列の１次元配列が２行ある\n",
    "（すなわち、２×２行列）となっている。\n",
    "このようにTensorFlowではスカラーも行列も同様にTensorというクラスで一般化されている"
   ]
  },
  {
   "cell_type": "markdown",
   "metadata": {},
   "source": [
    "タプルはイミュータブルなシーケンス型の1つ。\n",
    "イミュータブルというのは変更ができないという意味で、タプルは作成した後で要素を変更したり削除することができない。\n",
    "この点がリストとタプルの最大の違い。\n",
    "またシーケンス型というのは複数の要素が順序を持って並べられているデータ型のこと\n",
    "\n",
    "スカラー、ベクトル、行列　についての参考URL\n",
    "https://blog.apar.jp/deep-learning/12121/"
   ]
  },
  {
   "cell_type": "code",
   "execution_count": 8,
   "metadata": {},
   "outputs": [
    {
     "data": {
      "text/plain": [
       "<tf.Tensor 'add:0' shape=() dtype=float32>"
      ]
     },
     "execution_count": 8,
     "metadata": {},
     "output_type": "execute_result"
    }
   ],
   "source": [
    "# もう一つ確認してみる\n",
    "\n",
    "a0 + 1.0"
   ]
  },
  {
   "cell_type": "markdown",
   "metadata": {},
   "source": [
    "計算処理は指定個数（加算であれば２つ）のTensorが入力され、１つの　Tensor（処理結果）が出力される。\n",
    "こうする事で計算処理も一般化され、一部の処理を別のものに入れ替えるという事も行いやすくなる。"
   ]
  }
 ],
 "metadata": {
  "kernelspec": {
   "display_name": "Python 3",
   "language": "python",
   "name": "python3"
  },
  "language_info": {
   "codemirror_mode": {
    "name": "ipython",
    "version": 3
   },
   "file_extension": ".py",
   "mimetype": "text/x-python",
   "name": "python",
   "nbconvert_exporter": "python",
   "pygments_lexer": "ipython3",
   "version": "3.6.10"
  }
 },
 "nbformat": 4,
 "nbformat_minor": 4
}
