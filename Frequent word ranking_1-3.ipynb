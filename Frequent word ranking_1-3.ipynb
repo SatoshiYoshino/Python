{
 "cells": [
  {
   "cell_type": "code",
   "execution_count": 6,
   "metadata": {
    "collapsed": true
   },
   "outputs": [],
   "source": [
    "#　いろいろな検索をしてみる"
   ]
  },
  {
   "cell_type": "code",
   "execution_count": 7,
   "metadata": {
    "collapsed": true
   },
   "outputs": [],
   "source": [
    "import pandas as pd"
   ]
  },
  {
   "cell_type": "code",
   "execution_count": 8,
   "metadata": {
    "collapsed": true
   },
   "outputs": [],
   "source": [
    "df_master = pd.read_csv(\"sample_survey.csv\")"
   ]
  },
  {
   "cell_type": "code",
   "execution_count": 9,
   "metadata": {
    "collapsed": true
   },
   "outputs": [],
   "source": [
    "df = df_master.copy()\n",
    "df = df.dropna(subset=[\"回答\"])"
   ]
  },
  {
   "cell_type": "code",
   "execution_count": 10,
   "metadata": {
    "collapsed": true
   },
   "outputs": [],
   "source": [
    "import MeCab"
   ]
  },
  {
   "cell_type": "code",
   "execution_count": 11,
   "metadata": {
    "collapsed": true
   },
   "outputs": [],
   "source": [
    "m = MeCab.Tagger('-Ochasen  -d /usr/local/lib/mecab/dic/mecab-ipadic-neologd')"
   ]
  },
  {
   "cell_type": "code",
   "execution_count": 12,
   "metadata": {
    "collapsed": true
   },
   "outputs": [],
   "source": [
    "def word_analysis(doc):\n",
    "    node = m.parseToNode(doc)\n",
    "    word_list=[]\n",
    "    while node:\n",
    "        hinshi = node.feature.split(\",\")[0]\n",
    "        if hinshi == \"名詞\":\n",
    "          word_list.append(node.feature.split(\",\")[6])\n",
    "        node = node.next\n",
    "    return word_list"
   ]
  },
  {
   "cell_type": "code",
   "execution_count": 13,
   "metadata": {},
   "outputs": [
    {
     "data": {
      "text/plain": [
       "['私', 'あなた', 'カレー', '机', '上']"
      ]
     },
     "execution_count": 13,
     "metadata": {},
     "output_type": "execute_result"
    }
   ],
   "source": [
    "word_analysis(\"私とあなたはカレーを机の上で食べました。\")"
   ]
  },
  {
   "cell_type": "code",
   "execution_count": 14,
   "metadata": {
    "collapsed": true
   },
   "outputs": [],
   "source": [
    "df[\"名詞\"]=df[\"回答\"].apply(word_analysis)"
   ]
  },
  {
   "cell_type": "code",
   "execution_count": 15,
   "metadata": {},
   "outputs": [
    {
     "data": {
      "text/html": [
       "<div>\n",
       "<style scoped>\n",
       "    .dataframe tbody tr th:only-of-type {\n",
       "        vertical-align: middle;\n",
       "    }\n",
       "\n",
       "    .dataframe tbody tr th {\n",
       "        vertical-align: top;\n",
       "    }\n",
       "\n",
       "    .dataframe thead th {\n",
       "        text-align: right;\n",
       "    }\n",
       "</style>\n",
       "<table border=\"1\" class=\"dataframe\">\n",
       "  <thead>\n",
       "    <tr style=\"text-align: right;\">\n",
       "      <th></th>\n",
       "      <th>性別</th>\n",
       "      <th>年代</th>\n",
       "      <th>回答</th>\n",
       "      <th>名詞</th>\n",
       "    </tr>\n",
       "  </thead>\n",
       "  <tbody>\n",
       "    <tr>\n",
       "      <th>0</th>\n",
       "      <td>男性</td>\n",
       "      <td>3</td>\n",
       "      <td>駅でをみる</td>\n",
       "      <td>[駅]</td>\n",
       "    </tr>\n",
       "    <tr>\n",
       "      <th>1</th>\n",
       "      <td>女性</td>\n",
       "      <td>3</td>\n",
       "      <td>おせちを食べる</td>\n",
       "      <td>[おせち]</td>\n",
       "    </tr>\n",
       "    <tr>\n",
       "      <th>2</th>\n",
       "      <td>女性</td>\n",
       "      <td>4</td>\n",
       "      <td>家族でゲームする</td>\n",
       "      <td>[家族, ゲーム]</td>\n",
       "    </tr>\n",
       "    <tr>\n",
       "      <th>3</th>\n",
       "      <td>男性</td>\n",
       "      <td>5</td>\n",
       "      <td>サッカーをする</td>\n",
       "      <td>[サッカー]</td>\n",
       "    </tr>\n",
       "  </tbody>\n",
       "</table>\n",
       "</div>"
      ],
      "text/plain": [
       "   性別  年代        回答         名詞\n",
       "0  男性   3     駅でをみる        [駅]\n",
       "1  女性   3   おせちを食べる      [おせち]\n",
       "2  女性   4  家族でゲームする  [家族, ゲーム]\n",
       "3  男性   5   サッカーをする     [サッカー]"
      ]
     },
     "execution_count": 15,
     "metadata": {},
     "output_type": "execute_result"
    }
   ],
   "source": [
    "df"
   ]
  },
  {
   "cell_type": "code",
   "execution_count": 33,
   "metadata": {
    "collapsed": true
   },
   "outputs": [],
   "source": [
    "import itertools\n",
    "import collections\n",
    "##この部分で抽出条件をいろいろ設定する\n",
    "##　男性だけの名詞を検索。男性の部分を20代にするなど調整する事でいろいろ抽出できる\n",
    "word_pickup = df[\"名詞\"]\n",
    "\n",
    "words =list( itertools.chain.from_iterable(word_pickup))\n",
    "c = collections.Counter(words)\n"
   ]
  },
  {
   "cell_type": "code",
   "execution_count": 35,
   "metadata": {},
   "outputs": [
    {
     "data": {
      "text/plain": [
       "<matplotlib.axes._subplots.AxesSubplot at 0x7fdbaf08fd30>"
      ]
     },
     "execution_count": 35,
     "metadata": {},
     "output_type": "execute_result"
    },
    {
     "data": {
      "image/png": "[encoded data removed]",
      "text/plain": [
       "<Figure size 576x576 with 1 Axes>"
      ]
     },
     "metadata": {},
     "output_type": "display_data"
    }
   ],
   "source": [
    "import seaborn as sns\n",
    "import matplotlib.pyplot as plt\n",
    "\n",
    "sns.set(font = \"Hiragino Maru Gothic Pro\",context=\"talk\")\n",
    "#文字を大きくしたい場合は、context=\"talk\"で大きい順（　poster,talk,notebook,paper）で文字サイズを調整する\n",
    "fig = plt.subplots(figsize=(8,8))\n",
    "sns.countplot(y=words,order=[i[0] for i in c.most_common(10)])"
   ]
  },
  {
   "cell_type": "code",
   "execution_count": 32,
   "metadata": {},
   "outputs": [
    {
     "name": "stdout",
     "output_type": "stream",
     "text": [
      "['STIXSizeFourSym', 'STIXSizeFiveSym', 'DejaVu Sans Mono', 'cmr10', 'DejaVu Sans', 'cmtt10', 'cmss10', 'cmb10', 'STIXSizeOneSym', 'DejaVu Sans Mono', 'DejaVu Serif Display', 'STIXSizeFourSym', 'DejaVu Serif', 'STIXNonUnicode', 'STIXNonUnicode', 'STIXSizeThreeSym', 'STIXSizeTwoSym', 'DejaVu Serif', 'DejaVu Sans Mono', 'DejaVu Serif', 'cmmi10', 'STIXGeneral', 'cmex10', 'DejaVu Sans', 'STIXNonUnicode', 'DejaVu Sans Mono', 'STIXNonUnicode', 'STIXSizeThreeSym', 'STIXGeneral', 'DejaVu Sans Display', 'cmsy10', 'STIXGeneral', 'DejaVu Serif', 'DejaVu Sans', 'DejaVu Sans', 'STIXGeneral', 'STIXSizeTwoSym', 'STIXSizeOneSym', 'Apple Braille', 'Noto Sans Inscriptional Parthian', 'Arial Narrow', 'Noto Sans Kaithi', 'Apple SD Gothic Neo', 'Noto Sans Kannada', 'Trebuchet MS', 'Mshtakan', 'Arial Narrow', 'Noto Sans Lycian', 'Noto Sans Carian', 'Noto Sans Syloti Nagri', 'Noto Sans Oriya', 'Noto Sans Avestan', '.Arabic UI Display', 'STIXNonUnicode', 'Noto Sans New Tai Lue', 'Devanagari Sangam MN', 'Times New Roman', 'STIXIntegralsSm', 'Bodoni 72', 'Hiragino Sans GB', 'Hoefler Text', 'Noto Sans Tai Viet', 'Hiragino Sans', '.Helvetica Neue DeskInterface', 'Rockwell', 'Noto Sans Tai Tham', 'Avenir Next', 'Marker Felt', 'Al Tarikh', '.SF NS Text Condensed', 'STIXIntegralsUpSm', 'STIXIntegralsD', 'Devanagari MT', 'Bangla MN', 'Kohinoor Gujarati', 'Farah', 'Arial Narrow', 'Tahoma', 'Noto Sans Saurashtra', 'Herculanum', 'Noto Sans Kharoshthi', 'Sathu', 'Iowan Old Style', 'Beirut', 'Noto Sans Armenian', 'Al Nile', 'Hiragino Sans', 'Noto Sans Lydian', 'Noto Sans Coptic', 'Kokonor', '.SF NS Display Condensed', 'Athelas', 'Lao Sangam MN', 'Verdana', 'Wingdings', 'Arial Unicode MS', 'Webdings', 'STIXIntegralsD', 'Hiragino Sans', 'SignPainter', '.SF NS Display Condensed', 'Charter', 'DIN Condensed', 'STIXSizeTwoSym', '.SF NS Display Condensed', 'Arial Hebrew', 'STIXNonUnicode', 'Mukta Mahee', 'Kohinoor Telugu', 'Brush Script MT', 'Noto Sans Hanunoo', 'Bodoni Ornaments', '.SF NS Display Condensed', 'Noto Sans Cypriot', 'Noto Sans Osmanya', 'ITF Devanagari', 'Zapfino', 'Verdana', 'Palatino', 'Kannada MN', 'Noto Sans Runic', 'Kefa', 'Arial Narrow', 'Arial Rounded MT Bold', 'Noto Sans NKo', 'Noto Sans Chakma', 'Noto Sans Ugaritic', 'Noto Sans Tifinagh', 'Euphemia UCAS', 'Wingdings 2', 'Kohinoor Bangla', 'Big Caslon', '.SF NS Display Condensed', 'Optima', 'Hiragino Sans', 'PT Mono', 'Noto Sans Mandaic', 'Bradley Hand', 'Arial', 'Arial', 'Hiragino Mincho ProN', 'PT Serif Caption', 'Noto Sans Tai Le', 'Damascus', '.SF Compact Text', 'Bangla Sangam MN', 'Heiti TC', 'STIXGeneral', 'InaiMathi', 'Nadeem', 'Gill Sans', 'Noto Sans Ogham', '.SF Compact Rounded', '.SF NS Display Condensed', 'Sinhala MN', 'Microsoft Sans Serif', 'Bodoni 72 Smallcaps', 'Sinhala Sangam MN', 'Courier New', 'Noto Sans Buginese', 'Apple Symbols', 'Zapf Dingbats', 'Oriya Sangam MN', 'AppleMyungjo', 'STIXIntegralsUpD', 'Noto Sans Glagolitic', 'Courier New', 'Noto Sans Phoenician', 'Andale Mono', '.SF Compact Display', 'Apple Braille', 'Chalkboard SE', 'Sana', 'Sukhumvit Set', 'DecoType Naskh', '.SF NS Text Condensed', 'Apple Braille', 'Shree Devanagari 714', 'New Peninim MT', 'STIXNonUnicode', 'Trebuchet MS', 'Khmer Sangam MN', 'STIXVariants', 'Noto Sans Vai', 'System Font', 'Malayalam Sangam MN', 'STIXIntegralsSm', '.SF NS Text Condensed', 'Phosphate', 'Symbol', 'Courier New', '.SF NS Text Condensed', 'Diwan Thuluth', 'STIXIntegralsUp', 'STIXNonUnicode', 'KufiStandardGK', 'Times New Roman', 'Noto Sans Tagbanwa', 'Didot', 'Georgia', 'STIXGeneral', 'Hiragino Sans', 'Apple Braille', 'Snell Roundhand', '.New York', '.Keyboard', 'Corsiva Hebrew', 'Baskerville', 'STIXGeneral', 'Kailasa', 'American Typewriter', 'Al Bayan', 'Apple Chancery', 'Telugu MN', 'Helvetica', 'Helvetica Neue', '.Aqua Kana', 'Gujarati Sangam MN', 'Times New Roman', 'Noto Sans Lisu', 'STIXSizeFourSym', 'Noteworthy', 'Noto Sans Myanmar', 'Avenir', 'Gujarati MT', 'Noto Sans Meetei Mayek', 'Thonburi', 'Noto Sans Gothic', 'Noto Sans Limbu', 'Mishafi Gold', 'Bodoni 72 Oldstyle', 'Geeza Pro', 'Noto Sans Javanese', 'Noto Sans Sundanese', 'Noto Sans Buhid', 'Noto Sans Bamum', 'Arial Black', 'Hiragino Maru Gothic Pro', 'Gurmukhi Sangam MN', 'Trattatello', 'Georgia', 'Arial', 'Malayalam MN', 'STIXSizeOneSym', '.SF NS Mono', 'PT Serif', 'Noto Sans PhagsPa', 'Noto Sans Old Turkic', 'Menlo', 'Hiragino Sans', 'Times New Roman', 'STIXSizeThreeSym', 'Lao MN', 'Noto Sans Inscriptional Pahlavi', '.New York', 'Noto Sans Egyptian Hieroglyphs', 'Silom', 'Lucida Grande', 'Futura', 'Verdana', 'Tamil MN', 'PT Sans', 'Tamil Sangam MN', '.SF NS Text Condensed', 'STIXSizeThreeSym', 'Avenir Next Condensed', 'STIXIntegralsUpSm', 'Ayuthaya', 'Marion', 'STIXSizeFiveSym', 'Hiragino Sans', 'Apple Braille', '.Arabic UI Text', '.SF NS Text Condensed', 'Hoefler Text', 'Papyrus', 'Times', 'Farisi', 'Noto Sans Imperial Aramaic', 'Telugu Sangam MN', 'Cochin', 'Noto Sans Thaana', 'PingFang HK', 'Myanmar MN', 'Krungthep', 'Gurmukhi MT', '.SF NS Rounded', 'STIXIntegralsUp', 'Copperplate', 'Diwan Kufi', '.SF NS Display Condensed', 'Trebuchet MS', 'STIXSizeOneSym', 'Galvji', 'Comic Sans MS', 'Hiragino Sans', 'Kohinoor Devanagari', 'STIXIntegralsUpD', 'Khmer MN', 'Raanana', 'AppleGothic', 'Oriya MN', 'Noto Sans Tagalog', '.SF Compact Text', 'Noto Serif Myanmar', 'Noto Sans Batak', '.SF NS Display Condensed', 'Luminari', 'Skia', 'Noto Sans Old South Arabian', 'System Font', 'Seravek', 'Noto Sans Old Italic', 'Chalkboard', 'STIXVariants', 'Noto Sans Linear B', 'Songti SC', 'Comic Sans MS', '.SF NS Display Condensed', 'Kannada Sangam MN', 'Heiti TC', 'STIXSizeFourSym', 'Impact', 'Noto Sans Shavian', 'Wingdings 3', 'Hiragino Sans', 'Noto Nastaliq Urdu', 'Noto Sans Yi', 'Plantagenet Cherokee', 'Noto Sans Cuneiform', '.LastResort', 'Mishafi', 'Noto Sans Lepcha', 'Muna', 'Noto Sans Samaritan', 'Noto Sans Ol Chiki', '.SF NS Mono', 'Chalkduster', 'Waseem', 'Superclarendon', 'Baghdad', 'Noto Sans Mongolian', 'STIXSizeTwoSym', 'Georgia', 'Arial', 'Georgia', 'Tahoma', 'Savoye LET', 'Verdana', 'Myanmar Sangam MN', 'Noto Sans Syriac', 'Hiragino Sans', 'Trebuchet MS', 'Courier New', 'DIN Alternate', 'Noto Sans Cham', 'Noto Sans Brahmi', 'Noto Sans Kayah Li', 'Noto Sans Rejang', 'Noto Serif Balinese', 'Gurmukhi MN', 'STIXGeneral', 'Noto Sans Old Persian']\n"
     ]
    }
   ],
   "source": [
    "#　文字化けしての日本語が表示されない時は、以下で日本語fontを検索できる\n",
    "#使いたい日本語fontを上記の「sns.set()」のところにsns.set(font = \"Hiragino Maru Gothic Pro\")と入力すると表示されるようになる\n",
    "import matplotlib.font_manager\n",
    "print([f.name for f in matplotlib.font_manager.fontManager.ttflist])"
   ]
  }
 ],
 "metadata": {
  "kernelspec": {
   "display_name": "Python 3",
   "language": "python",
   "name": "python3"
  },
  "language_info": {
   "codemirror_mode": {
    "name": "ipython",
    "version": 3
   },
   "file_extension": ".py",
   "mimetype": "text/x-python",
   "name": "python",
   "nbconvert_exporter": "python",
   "pygments_lexer": "ipython3",
   "version": "3.6.10"
  }
 },
 "nbformat": 4,
 "nbformat_minor": 4
}
