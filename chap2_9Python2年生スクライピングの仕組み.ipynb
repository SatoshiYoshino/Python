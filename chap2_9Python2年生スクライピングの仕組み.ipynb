{
  "nbformat": 4,
  "nbformat_minor": 0,
  "metadata": {
    "colab": {
      "provenance": [],
      "authorship_tag": "ABX9TyPG/tm3AYnQGWr4s9YYeCnp",
      "include_colab_link": true
    },
    "kernelspec": {
      "name": "python3",
      "display_name": "Python 3"
    },
    "language_info": {
      "name": "python"
    }
  },
  "cells": [
    {
      "cell_type": "markdown",
      "metadata": {
        "id": "view-in-github",
        "colab_type": "text"
      },
      "source": [
        "<a href=\"https://colab.research.google.com/github/SatoshiYoshino/Python/blob/master/chap2_9Python2%E5%B9%B4%E7%94%9F%E3%82%B9%E3%82%AF%E3%83%A9%E3%82%A4%E3%83%94%E3%83%B3%E3%82%B0%E3%81%AE%E4%BB%95%E7%B5%84%E3%81%BF.ipynb\" target=\"_parent\"><img src=\"https://colab.research.google.com/assets/colab-badge.svg\" alt=\"Open In Colab\"/></a>"
      ]
    },
    {
      "cell_type": "code",
      "execution_count": 25,
      "metadata": {
        "id": "cwITBWWxLvwM"
      },
      "outputs": [],
      "source": [
        "import requests\n",
        "from bs4 import BeautifulSoup\n",
        "import urllib"
      ]
    },
    {
      "cell_type": "code",
      "source": [
        "# Webページを取得して解析する\n",
        "load_url = \"https://news.yahoo.co.jp/categories/it\"\n",
        "html = requests.get(load_url)\n",
        "soup = BeautifulSoup(html.content, \"html.parser\")"
      ],
      "metadata": {
        "id": "tFbDiElBO9jn"
      },
      "execution_count": 26,
      "outputs": []
    },
    {
      "cell_type": "code",
      "source": [
        "# classで検索し、その中のすべてのaタグを検索して表示する\n",
        "topic = soup.find(class_=\"sc-bCMXmc hGkUPD\")"
      ],
      "metadata": {
        "id": "IkagYW_OPB2t"
      },
      "execution_count": 27,
      "outputs": []
    },
    {
      "cell_type": "code",
      "source": [
        "for element in soup.find_all(\"a\"):\n",
        "\tprint(element.text)\n",
        "\turl = element.get(\"href\")\n",
        "\tlink_url = urllib.parse.urljoin(load_url, url)\n",
        "\tprint(link_url)"
      ],
      "metadata": {
        "colab": {
          "base_uri": "https://localhost:8080/"
        },
        "id": "7MJjYVZPP6Vw",
        "outputId": "1143e4c2-c4fc-4f20-8c64-e12f0eec8dad"
      },
      "execution_count": 28,
      "outputs": [
        {
          "output_type": "stream",
          "name": "stdout",
          "text": [
            "Yahoo! JAPAN\n",
            "https://www.yahoo.co.jp/\n",
            "ヘルプ\n",
            "https://support.yahoo-net.jp/PccNews/s/\n",
            "\n",
            "\n",
            "\n",
            "https://news.yahoo.co.jp/\n",
            "新規取得\n",
            "https://account.edit.yahoo.co.jp/registration?.intl=jp&.done=https%3A%2F%2Fnews.yahoo.co.jp%2Fcategories%2Fit&.src=news\n",
            "ログイン\n",
            "https://login.yahoo.co.jp/config/login?.src=news&lg=jp&.intl=jp&.done=https%3A%2F%2Fnews.yahoo.co.jp%2Fcategories%2Fit\n",
            "マイページ\n",
            "https://news.yahoo.co.jp/users/me\n",
            "購入履歴\n",
            "https://news.yahoo.co.jp/purchase\n",
            "\n",
            "https://news.yahoo.co.jp/settings/blocked-users\n",
            "トップ\n",
            "https://news.yahoo.co.jp/\n",
            "速報\n",
            "https://news.yahoo.co.jp/flash\n",
            "ライブ\n",
            "https://news.yahoo.co.jp/live\n",
            "個人\n",
            "https://news.yahoo.co.jp/byline/\n",
            "オリジナル\n",
            "https://news.yahoo.co.jp/original/\n",
            "みんなの意見\n",
            "https://news.yahoo.co.jp/polls/\n",
            "ランキング\n",
            "https://news.yahoo.co.jp/ranking/access/news\n",
            "有料\n",
            "https://news.yahoo.co.jp/paidnews?source=pc-common-glonav\n",
            "主要\n",
            "https://news.yahoo.co.jp/\n",
            "国内\n",
            "https://news.yahoo.co.jp/categories/domestic\n",
            "国際\n",
            "https://news.yahoo.co.jp/categories/world\n",
            "経済\n",
            "https://news.yahoo.co.jp/categories/business\n",
            "エンタメ\n",
            "https://news.yahoo.co.jp/categories/entertainment\n",
            "スポーツ\n",
            "https://news.yahoo.co.jp/categories/sports\n",
            "IT\n",
            "https://news.yahoo.co.jp/categories/it\n",
            "科学\n",
            "https://news.yahoo.co.jp/categories/science\n",
            "ライフ\n",
            "https://news.yahoo.co.jp/categories/life\n",
            "地域\n",
            "https://news.yahoo.co.jp/categories/local\n",
            "トピックス一覧\n",
            "https://news.yahoo.co.jp/topics/top-picks\n",
            "JavaScriptの設定を変更する方法はこちら\n",
            "https://support.yahoo-net.jp/noscript\n",
            "サイバー攻撃受け 病院の混乱続く\n",
            "https://news.yahoo.co.jp/pickup/6443522\n",
            "「いいね」賠償 杉田議員側が上告\n",
            "https://news.yahoo.co.jp/pickup/6443519\n",
            "中傷にいいね 訴えられる可能性は\n",
            "https://news.yahoo.co.jp/pickup/6443492\n",
            "破産情報サイトに停止命令 個情委\n",
            "https://news.yahoo.co.jp/pickup/6443535\n",
            "Twitter従業員25%解雇へ 米報道\n",
            "https://news.yahoo.co.jp/pickup/6443364\n",
            "ツイッターの認証バッジ 有料化へ\n",
            "https://news.yahoo.co.jp/pickup/6443450\n",
            "Amazon 音楽なぜシャッフル再生\n",
            "https://news.yahoo.co.jp/pickup/6443504\n",
            "KDDIで一時「瞬断」現在は復旧\n",
            "https://news.yahoo.co.jp/pickup/6443435\n",
            "もっと見る\n",
            "https://news.yahoo.co.jp/topics/it\n",
            "破産情報サイトに停止命令 個情委\n",
            "https://news.yahoo.co.jp/pickup/6443535\n",
            "アクセスランキング（IT・科学）\n",
            "https://news.yahoo.co.jp/ranking/access/news/it-science\n",
            "1第8波発生への三つのシナリオ ～「いつ始まるか」「どれだけ被害が生じるか」～時事通信10/27(木)14:00\n",
            "https://news.yahoo.co.jp/articles/501747df5306ef68c41d2ad96719638cc98d8413\n",
            "2生活習慣病の一因、「老化細胞」が蓄積する仕組み解明　東大など毎日新聞11/3(木)1:00\n",
            "https://news.yahoo.co.jp/articles/83573beb07bc776e07d2f0c5373c7578e03c22b9\n",
            "3強い相手、カラスも「びびる」　心拍低下や不快感　慶応大時事通信11/2(水)5:26\n",
            "https://news.yahoo.co.jp/articles/cbea045bcb8edf5017f072203f75211fc1715c07\n",
            "4「うつ」を疑われた一人暮らしの60歳代の母親…精神科で分かった予想外の診断結果とは読売新聞（ヨミドクター）11/2(水)7:20\n",
            "https://news.yahoo.co.jp/articles/50e3e67bca96e6a3a81ca8241b45a4b16f4d24ef\n",
            "5ティラノサウルスが街を練り歩く　東京・蒲田のシュールな祭が話題に　運営「ゴジラを呼べたらよかったのですが……」ねとらぼ11/3(木)13:30\n",
            "https://news.yahoo.co.jp/articles/c0769eaa838fd34fe4f1f98cde669c7c0d499f0c\n",
            "コメントランキング（IT・科学）\n",
            "https://news.yahoo.co.jp/ranking/comment/it-science\n",
            "1Amazon Musicは“改悪”したのか？1億曲になっても聴きたい曲が再生できないPHILE WEB11/3(木)10:09\n",
            "https://news.yahoo.co.jp/articles/669ea292ed9617b48dea94dd78e5d05b4b928a47\n",
            "2女性の「画面バキバキスマホ」は恋愛に不利？　PR会社が男性1000人に調査、結果はITmedia NEWS11/3(木)13:05\n",
            "https://news.yahoo.co.jp/articles/cd8d1e452f5f1969328eca2ae5246b6c98f80684\n",
            "34歳以下の乳幼児、コロナワクチン「推奨」　日本小児科学会が見解朝日新聞デジタル11/2(水)20:26\n",
            "https://news.yahoo.co.jp/articles/669781d8ab84c33cc05a32e2f636f3099304faf2\n",
            "雑誌アクセスランキング（IT・科学）\n",
            "https://news.yahoo.co.jp/ranking/access/magazine/it-science\n",
            "1Amazon Musicは“改悪”したのか？1億曲になっても聴きたい曲が再生できないPHILE WEB11/3(木)10:09\n",
            "https://news.yahoo.co.jp/articles/669ea292ed9617b48dea94dd78e5d05b4b928a47\n",
            "2古代の帝国「新アッシリア」時代のレリーフを発見、2600年手付かず、ISが破壊した現場からナショナル ジオグラフィック日本版11/2(水)17:01\n",
            "https://news.yahoo.co.jp/articles/f28c169f55951d6c64e6aa10cf346e1154c1eaf0\n",
            "3スマホ利用者の57％が「検索結果をクリックしない」というデータForbes JAPAN11/3(木)12:30\n",
            "https://news.yahoo.co.jp/articles/18a6b4d6f0895bda8c5ed87aa66f439f68e46289\n",
            "4過去500年で最大規模の噴火に襲われたカナリア諸島、大災害後に残った緊急対策の課題ナショナル ジオグラフィック日本版11/3(木)9:01\n",
            "https://news.yahoo.co.jp/articles/a620134426a75e8a86d36052d5b1f8466cf4f4c0\n",
            "5太陽で見えなかった「惑星キラー」発見。地球衝突の可能性もPHILE WEB11/2(水)10:54\n",
            "https://news.yahoo.co.jp/articles/b1a827793b9579f17e5b68d95996481abe557e52\n",
            "アプリデータ先読みで、電車でもサクサク\n",
            "https://news.yahoo.co.jp/promo/app/yjnews/\n",
            "Facebook編集部による厳選記事を毎日配信\n",
            "https://www.facebook.com/yjnews\n",
            "Twitterリアルタイムでニュースを配信\n",
            "https://twitter.com/YahooNewsTopics\n",
            "news HACKYahoo!ニュースのオウンドメディア\n",
            "https://news.yahoo.co.jp/newshack/\n",
            "トップ\n",
            "https://news.yahoo.co.jp/\n",
            "速報\n",
            "https://news.yahoo.co.jp/flash\n",
            "ライブ\n",
            "https://news.yahoo.co.jp/live\n",
            "個人\n",
            "https://news.yahoo.co.jp/byline/\n",
            "オリジナル\n",
            "https://news.yahoo.co.jp/original/\n",
            "みんなの意見\n",
            "https://news.yahoo.co.jp/polls/\n",
            "ランキング\n",
            "https://news.yahoo.co.jp/ranking/access/news\n",
            "有料\n",
            "https://news.yahoo.co.jp/paidnews\n",
            "RSS\n",
            "https://news.yahoo.co.jp/rss\n",
            "ニュース提供社\n",
            "https://news.yahoo.co.jp/media\n",
            "プライバシー\n",
            "https://privacy.yahoo.co.jp/\n",
            "利用規約\n",
            "https://about.yahoo.co.jp/common/terms/\n",
            "メディアステートメント\n",
            "https://about.yahoo.co.jp/common/mediastatement/\n",
            "運営方針\n",
            "https://news.yahoo.co.jp/info/news-operation-policy\n",
            "著作権\n",
            "https://support.yahoo-net.jp/PccNews/s/article/H000006460\n",
            "特定商取引法の表示\n",
            "https://news.yahoo.co.jp/info/commercial-transactions\n",
            "ご意見・ご要望\n",
            "https://support.yahoo-net.jp/voc/s/news\n",
            "ヘルプ・お問い合わせ\n",
            "https://support.yahoo-net.jp/PccNews/s/\n"
          ]
        }
      ]
    },
    {
      "cell_type": "code",
      "source": [],
      "metadata": {
        "id": "KZUXc6ypRkt1"
      },
      "execution_count": null,
      "outputs": []
    }
  ]
}