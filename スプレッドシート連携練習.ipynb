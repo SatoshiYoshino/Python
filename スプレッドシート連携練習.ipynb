{
  "nbformat": 4,
  "nbformat_minor": 0,
  "metadata": {
    "colab": {
      "name": "スプレッドシート連携練習.ipynb",
      "provenance": [],
      "authorship_tag": "ABX9TyP/j4OIsREsDUCJ78vqt6uS",
      "include_colab_link": true
    },
    "kernelspec": {
      "name": "python3",
      "display_name": "Python 3"
    },
    "language_info": {
      "name": "python"
    }
  },
  "cells": [
    {
      "cell_type": "markdown",
      "metadata": {
        "id": "view-in-github",
        "colab_type": "text"
      },
      "source": [
        "<a href=\"https://colab.research.google.com/github/SatoshiYoshino/Python/blob/master/%E3%82%B9%E3%83%97%E3%83%AC%E3%83%83%E3%83%89%E3%82%B7%E3%83%BC%E3%83%88%E9%80%A3%E6%90%BA%E7%B7%B4%E7%BF%92.ipynb\" target=\"_parent\"><img src=\"https://colab.research.google.com/assets/colab-badge.svg\" alt=\"Open In Colab\"/></a>"
      ]
    },
    {
      "cell_type": "code",
      "metadata": {
        "id": "pjFqy8uGKSVB"
      },
      "source": [
        "!pip install --upgrade -q gspread"
      ],
      "execution_count": 1,
      "outputs": []
    },
    {
      "cell_type": "code",
      "metadata": {
        "id": "eMi19rTyKs_o"
      },
      "source": [
        "from google.colab import auth\n",
        "auth.authenticate_user()"
      ],
      "execution_count": 3,
      "outputs": []
    },
    {
      "cell_type": "code",
      "metadata": {
        "id": "yUL4LQQzK09D"
      },
      "source": [
        "import gspread\n",
        "from oauth2client.client import GoogleCredentials"
      ],
      "execution_count": 5,
      "outputs": []
    },
    {
      "cell_type": "code",
      "metadata": {
        "id": "PiH48vPRLIVh"
      },
      "source": [
        "gc = gspread.authorize(GoogleCredentials.get_application_default())\n",
        "worksheet = gc.open_by_url('https://docs.google.com/spreadsheets/d/1fR3MI5BL5trGXIjALhk1Bgxa24Q8khflC6MC_rAFTyw/edit#gid=0').sheet1"
      ],
      "execution_count": 6,
      "outputs": []
    },
    {
      "cell_type": "code",
      "metadata": {
        "colab": {
          "base_uri": "https://localhost:8080/"
        },
        "id": "fPjCi72cLpb2",
        "outputId": "4268c221-b251-47b1-80ff-dc8e93eaef0f"
      },
      "source": [
        "# get_all_values gives a list of rows.\n",
        "rows = worksheet.get_all_values()\n",
        "print(rows)"
      ],
      "execution_count": 7,
      "outputs": [
        {
          "output_type": "stream",
          "name": "stdout",
          "text": [
            "[['A', 'B', 'C', 'D'], ['98', '93', '95', '96'], ['90', '89', '99', '99'], ['94', '86', '93', '83'], ['84', '98', '97', '80'], ['90', '87', '90', '91'], ['100', '96', '82', '94'], ['84', '94', '88', '91'], ['97', '85', '99', '87'], ['96', '81', '94', '82'], ['95', '99', '80', '83'], ['85', '88', '90', '100'], ['89', '81', '84', '91'], ['85', '85', '85', '90'], ['94', '88', '100', '90'], ['90', '87', '98', '98'], ['86', '99', '85', '80'], ['87', '93', '80', '95'], ['100', '92', '82', '81'], ['88', '85', '82', '97'], ['84', '96', '80', '98'], ['100', '82', '98', '85'], ['98', '97', '80', '91'], ['94', '100', '82', '97'], ['96', '97', '87', '99'], ['91', '85', '89', '93'], ['88', '97', '80', '94'], ['80', '97', '93', '95'], ['95', '94', '80', '95'], ['86', '97', '89', '93'], ['98', '97', '84', '100'], ['88', '90', '93', '93'], ['100', '95', '81', '97'], ['82', '80', '90', '100'], ['83', '91', '94', '90'], ['92', '93', '89', '97'], ['98', '90', '97', '89'], ['98', '85', '83', '92'], ['95', '91', '84', '92'], ['95', '95', '97', '94'], ['94', '91', '87', '97'], ['98', '85', '84', '96'], ['95', '94', '80', '97'], ['80', '89', '90', '98'], ['85', '86', '95', '83'], ['95', '86', '88', '95'], ['93', '90', '94', '80'], ['85', '88', '97', '100'], ['85', '90', '93', '88'], ['99', '91', '93', '98'], ['98', '89', '89', '86'], ['80', '99', '88', '87'], ['93', '86', '91', '89'], ['80', '96', '83', '96'], ['98', '91', '82', '91'], ['90', '100', '97', '83'], ['98', '82', '83', '90'], ['83', '90', '90', '84'], ['95', '94', '81', '92'], ['88', '87', '90', '98'], ['100', '95', '88', '82'], ['90', '100', '100', '80'], ['96', '89', '88', '81'], ['99', '89', '85', '84'], ['80', '95', '86', '86'], ['95', '91', '98', '97'], ['97', '85', '97', '95'], ['88', '92', '82', '96'], ['84', '90', '87', '84'], ['91', '81', '89', '94'], ['91', '91', '96', '86'], ['89', '97', '96', '88'], ['98', '96', '87', '82'], ['84', '93', '97', '92'], ['97', '86', '89', '81'], ['96', '96', '81', '94'], ['91', '90', '84', '83'], ['99', '86', '85', '96']]\n"
          ]
        }
      ]
    },
    {
      "cell_type": "code",
      "metadata": {
        "colab": {
          "base_uri": "https://localhost:8080/",
          "height": 419
        },
        "id": "cd1VutEDLsoS",
        "outputId": "77c6f528-01ef-4489-820f-aef1e7077591"
      },
      "source": [
        "# Convert to a DataFrame and render.\n",
        "import pandas as pd\n",
        "pd.DataFrame.from_records(rows)"
      ],
      "execution_count": 8,
      "outputs": [
        {
          "output_type": "execute_result",
          "data": {
            "text/html": [
              "<div>\n",
              "<style scoped>\n",
              "    .dataframe tbody tr th:only-of-type {\n",
              "        vertical-align: middle;\n",
              "    }\n",
              "\n",
              "    .dataframe tbody tr th {\n",
              "        vertical-align: top;\n",
              "    }\n",
              "\n",
              "    .dataframe thead th {\n",
              "        text-align: right;\n",
              "    }\n",
              "</style>\n",
              "<table border=\"1\" class=\"dataframe\">\n",
              "  <thead>\n",
              "    <tr style=\"text-align: right;\">\n",
              "      <th></th>\n",
              "      <th>0</th>\n",
              "      <th>1</th>\n",
              "      <th>2</th>\n",
              "      <th>3</th>\n",
              "    </tr>\n",
              "  </thead>\n",
              "  <tbody>\n",
              "    <tr>\n",
              "      <th>0</th>\n",
              "      <td>A</td>\n",
              "      <td>B</td>\n",
              "      <td>C</td>\n",
              "      <td>D</td>\n",
              "    </tr>\n",
              "    <tr>\n",
              "      <th>1</th>\n",
              "      <td>98</td>\n",
              "      <td>93</td>\n",
              "      <td>95</td>\n",
              "      <td>96</td>\n",
              "    </tr>\n",
              "    <tr>\n",
              "      <th>2</th>\n",
              "      <td>90</td>\n",
              "      <td>89</td>\n",
              "      <td>99</td>\n",
              "      <td>99</td>\n",
              "    </tr>\n",
              "    <tr>\n",
              "      <th>3</th>\n",
              "      <td>94</td>\n",
              "      <td>86</td>\n",
              "      <td>93</td>\n",
              "      <td>83</td>\n",
              "    </tr>\n",
              "    <tr>\n",
              "      <th>4</th>\n",
              "      <td>84</td>\n",
              "      <td>98</td>\n",
              "      <td>97</td>\n",
              "      <td>80</td>\n",
              "    </tr>\n",
              "    <tr>\n",
              "      <th>...</th>\n",
              "      <td>...</td>\n",
              "      <td>...</td>\n",
              "      <td>...</td>\n",
              "      <td>...</td>\n",
              "    </tr>\n",
              "    <tr>\n",
              "      <th>73</th>\n",
              "      <td>84</td>\n",
              "      <td>93</td>\n",
              "      <td>97</td>\n",
              "      <td>92</td>\n",
              "    </tr>\n",
              "    <tr>\n",
              "      <th>74</th>\n",
              "      <td>97</td>\n",
              "      <td>86</td>\n",
              "      <td>89</td>\n",
              "      <td>81</td>\n",
              "    </tr>\n",
              "    <tr>\n",
              "      <th>75</th>\n",
              "      <td>96</td>\n",
              "      <td>96</td>\n",
              "      <td>81</td>\n",
              "      <td>94</td>\n",
              "    </tr>\n",
              "    <tr>\n",
              "      <th>76</th>\n",
              "      <td>91</td>\n",
              "      <td>90</td>\n",
              "      <td>84</td>\n",
              "      <td>83</td>\n",
              "    </tr>\n",
              "    <tr>\n",
              "      <th>77</th>\n",
              "      <td>99</td>\n",
              "      <td>86</td>\n",
              "      <td>85</td>\n",
              "      <td>96</td>\n",
              "    </tr>\n",
              "  </tbody>\n",
              "</table>\n",
              "<p>78 rows × 4 columns</p>\n",
              "</div>"
            ],
            "text/plain": [
              "     0   1   2   3\n",
              "0    A   B   C   D\n",
              "1   98  93  95  96\n",
              "2   90  89  99  99\n",
              "3   94  86  93  83\n",
              "4   84  98  97  80\n",
              "..  ..  ..  ..  ..\n",
              "73  84  93  97  92\n",
              "74  97  86  89  81\n",
              "75  96  96  81  94\n",
              "76  91  90  84  83\n",
              "77  99  86  85  96\n",
              "\n",
              "[78 rows x 4 columns]"
            ]
          },
          "metadata": {},
          "execution_count": 8
        }
      ]
    },
    {
      "cell_type": "code",
      "metadata": {
        "colab": {
          "base_uri": "https://localhost:8080/"
        },
        "id": "SmmJPR2MLvH3",
        "outputId": "3002bd0f-fc41-4d70-f3ac-80cf8fa1831c"
      },
      "source": [
        "rows[37:42]\n",
        "# rowsで行を抽出する"
      ],
      "execution_count": 10,
      "outputs": [
        {
          "output_type": "execute_result",
          "data": {
            "text/plain": [
              "[['98', '85', '83', '92'],\n",
              " ['95', '91', '84', '92'],\n",
              " ['95', '95', '97', '94'],\n",
              " ['94', '91', '87', '97'],\n",
              " ['98', '85', '84', '96']]"
            ]
          },
          "metadata": {},
          "execution_count": 10
        }
      ]
    },
    {
      "cell_type": "code",
      "metadata": {
        "id": "9Ea2nqU0L2RG"
      },
      "source": [
        ""
      ],
      "execution_count": null,
      "outputs": []
    }
  ]
}